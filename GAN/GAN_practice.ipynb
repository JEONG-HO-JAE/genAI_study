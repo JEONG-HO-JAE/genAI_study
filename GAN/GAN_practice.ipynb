{
 "cells": [
  {
   "cell_type": "code",
   "execution_count": 1,
   "metadata": {},
   "outputs": [],
   "source": [
    "import numpy as np\n",
    "import matplotlib.pyplot as plt\n",
    "\n",
    "import os\n",
    "import math\n",
    "import copy\n",
    "import torch\n",
    "import torch.nn as nn\n",
    "import torch.optim as optim\n",
    "import torch.nn.functional as F\n",
    "import torchvision\n",
    "import torchmetrics\n",
    "from tqdm import tqdm\n",
    "from PIL import Image\n",
    "from torch.utils.data import DataLoader, Dataset\n",
    "from torchvision import datasets, transforms\n",
    "from torchvision.utils import save_image\n",
    "from torchinfo import summary"
   ]
  },
  {
   "cell_type": "markdown",
   "metadata": {},
   "source": [
    "# Hyperparameters"
   ]
  },
  {
   "cell_type": "code",
   "execution_count": 28,
   "metadata": {},
   "outputs": [],
   "source": [
    "DATASET_DIR = \"/Users/hojae/Desktop/goal/genAI/GAN/dataset\"\n",
    "MODEL_SAVE_PATH = './dcgan_model_checkpoint.pth'\n",
    "IMAGE_SIZE = 64\n",
    "BATCH_SIZE = 128\n",
    "\n",
    "CHANNELS = 1\n",
    "Z_DIM = 100\n",
    "EPOCHS = 100 \n",
    "LOAD_MODEL = False\n",
    "ADAM_BETA_1 = 0.5\n",
    "ADAM_BETA_2 = 0.999\n",
    "LEARNING_RATE = 0.0002\n",
    "NOISE_PARAM = 0.1"
   ]
  },
  {
   "cell_type": "markdown",
   "metadata": {},
   "source": [
    "# Dataset"
   ]
  },
  {
   "cell_type": "code",
   "execution_count": 3,
   "metadata": {},
   "outputs": [],
   "source": [
    "class ImageDataset(Dataset):\n",
    "    def __init__(self, image_dir, transform=None):\n",
    "        self.image_dir = image_dir\n",
    "        self.image_paths = [os.path.join(image_dir, file) for file in os.listdir(image_dir) if file.endswith(('.png', '.jpg', '.jpeg'))]\n",
    "        self.transform = transform\n",
    "\n",
    "    def __len__(self):\n",
    "        return len(self.image_paths)\n",
    "\n",
    "    def __getitem__(self, idx):\n",
    "        img_path = self.image_paths[idx]\n",
    "        image = Image.open(img_path).convert(\"RGB\")\n",
    "        if self.transform:\n",
    "            image = self.transform(image)\n",
    "        return image"
   ]
  },
  {
   "cell_type": "code",
   "execution_count": 4,
   "metadata": {},
   "outputs": [],
   "source": [
    "def denormalize(img_tensor):\n",
    "    mean = torch.tensor([0.5, 0.5, 0.5])\n",
    "    std = torch.tensor([0.5, 0.5, 0.5])\n",
    "    \n",
    "    img_tensor = img_tensor.clone()  \n",
    "    for t, m, s in zip(img_tensor, mean, std):\n",
    "        t.mul_(s).add_(m)  # t = t * std + mean\n",
    "    img_tensor = torch.clamp(img_tensor, 0, 1)\n",
    "    return img_tensor\n",
    "\n",
    "def display_sample_batch(loader):\n",
    "    images = next(iter(loader))\n",
    "    \n",
    "    # 정규화 해제 (이미지 복원)\n",
    "    images = denormalize(images)\n",
    "    \n",
    "    grid_img = torchvision.utils.make_grid(images[:10], nrow=10)  # 10개의 이미지를 가로로 출력\n",
    "    plt.imshow(grid_img.permute(1, 2, 0))\n",
    "    plt.axis('off')\n",
    "    plt.show()"
   ]
  },
  {
   "cell_type": "code",
   "execution_count": 5,
   "metadata": {},
   "outputs": [
    {
     "name": "stdout",
     "output_type": "stream",
     "text": [
      "Total number of images in the train dataset: 40000\n"
     ]
    },
    {
     "data": {
      "image/png": "[encoded data removed]",
      "text/plain": [
       "<Figure size 640x480 with 1 Axes>"
      ]
     },
     "metadata": {},
     "output_type": "display_data"
    }
   ],
   "source": [
    "transform = transforms.Compose([\n",
    "    transforms.Resize((IMAGE_SIZE, IMAGE_SIZE)),   # 이미지 크기 조정\n",
    "    transforms.Grayscale(num_output_channels=1),   # 흑백으로 변환 (1채널로 설정)\n",
    "    transforms.ToTensor(),                         # 텐서로 변환\n",
    "    transforms.Normalize(mean=[0.5], std=[0.5])    # [-1, 1] 범위로 정규화\n",
    "])\n",
    "\n",
    "train_data = ImageDataset(image_dir=DATASET_DIR, \n",
    "                          transform=transform)\n",
    "\n",
    "train_loader = DataLoader(train_data, \n",
    "                          batch_size=BATCH_SIZE, \n",
    "                          shuffle=True, \n",
    "                          drop_last=False)\n",
    "print(f\"Total number of images in the train dataset: {len(train_data)}\")\n",
    "display_sample_batch(train_loader)"
   ]
  },
  {
   "cell_type": "markdown",
   "metadata": {},
   "source": [
    "# GAN Implementation"
   ]
  },
  {
   "cell_type": "markdown",
   "metadata": {},
   "source": [
    "## Discriminator"
   ]
  },
  {
   "cell_type": "code",
   "execution_count": 6,
   "metadata": {},
   "outputs": [],
   "source": [
    "class Discriminator(nn.Module):\n",
    "    def __init__(self, image_size, channels):\n",
    "        super(Discriminator, self).__init__()\n",
    "        self.model = nn.Sequential(\n",
    "            nn.Conv2d(channels, 64, kernel_size=4, stride=2, padding=1, bias=False),\n",
    "            nn.LeakyReLU(0.2, inplace=True),\n",
    "            nn.Dropout(0.3),\n",
    "            \n",
    "            nn.Conv2d(64, 128, kernel_size=4, stride=2, padding=1, bias=False),\n",
    "            nn.BatchNorm2d(128, momentum=0.9),\n",
    "            nn.LeakyReLU(0.2, inplace=True),\n",
    "            nn.Dropout(0.3),\n",
    "            \n",
    "            nn.Conv2d(128, 256, kernel_size=4, stride=2, padding=1, bias=False),\n",
    "            nn.BatchNorm2d(256, momentum=0.9),\n",
    "            nn.LeakyReLU(0.2, inplace=True),\n",
    "            nn.Dropout(0.3),\n",
    "            \n",
    "            nn.Conv2d(256, 512, kernel_size=4, stride=2, padding=1, bias=False),\n",
    "            nn.BatchNorm2d(512, momentum=0.9),\n",
    "            nn.LeakyReLU(0.2, inplace=True),\n",
    "            nn.Dropout(0.3),\n",
    "            \n",
    "            nn.Conv2d(512, 1, kernel_size=4, stride=1, padding=0, bias=False),\n",
    "            nn.Sigmoid()\n",
    "        )\n",
    "    \n",
    "    def forward(self, x):\n",
    "        x = self.model(x)\n",
    "        return x.view(x.size(0), -1)  # Flatten"
   ]
  },
  {
   "cell_type": "code",
   "execution_count": 7,
   "metadata": {},
   "outputs": [
    {
     "data": {
      "text/plain": [
       "==========================================================================================\n",
       "Layer (type:depth-idx)                   Output Shape              Param #\n",
       "==========================================================================================\n",
       "Discriminator                            [128, 1]                  --\n",
       "├─Sequential: 1-1                        [128, 1, 1, 1]            --\n",
       "│    └─Conv2d: 2-1                       [128, 64, 32, 32]         1,024\n",
       "│    └─LeakyReLU: 2-2                    [128, 64, 32, 32]         --\n",
       "│    └─Dropout: 2-3                      [128, 64, 32, 32]         --\n",
       "│    └─Conv2d: 2-4                       [128, 128, 16, 16]        131,072\n",
       "│    └─BatchNorm2d: 2-5                  [128, 128, 16, 16]        256\n",
       "│    └─LeakyReLU: 2-6                    [128, 128, 16, 16]        --\n",
       "│    └─Dropout: 2-7                      [128, 128, 16, 16]        --\n",
       "│    └─Conv2d: 2-8                       [128, 256, 8, 8]          524,288\n",
       "│    └─BatchNorm2d: 2-9                  [128, 256, 8, 8]          512\n",
       "│    └─LeakyReLU: 2-10                   [128, 256, 8, 8]          --\n",
       "│    └─Dropout: 2-11                     [128, 256, 8, 8]          --\n",
       "│    └─Conv2d: 2-12                      [128, 512, 4, 4]          2,097,152\n",
       "│    └─BatchNorm2d: 2-13                 [128, 512, 4, 4]          1,024\n",
       "│    └─LeakyReLU: 2-14                   [128, 512, 4, 4]          --\n",
       "│    └─Dropout: 2-15                     [128, 512, 4, 4]          --\n",
       "│    └─Conv2d: 2-16                      [128, 1, 1, 1]            8,192\n",
       "│    └─Sigmoid: 2-17                     [128, 1, 1, 1]            --\n",
       "==========================================================================================\n",
       "Total params: 2,763,520\n",
       "Trainable params: 2,763,520\n",
       "Non-trainable params: 0\n",
       "Total mult-adds (Units.GIGABYTES): 13.02\n",
       "==========================================================================================\n",
       "Input size (MB): 2.10\n",
       "Forward/backward pass size (MB): 184.55\n",
       "Params size (MB): 11.05\n",
       "Estimated Total Size (MB): 197.70\n",
       "=========================================================================================="
      ]
     },
     "execution_count": 7,
     "metadata": {},
     "output_type": "execute_result"
    }
   ],
   "source": [
    "discriminator = Discriminator(image_size=IMAGE_SIZE, channels=CHANNELS)\n",
    "input_size = (BATCH_SIZE, CHANNELS, IMAGE_SIZE, IMAGE_SIZE)\n",
    "summary(discriminator, input_size=input_size)"
   ]
  },
  {
   "cell_type": "markdown",
   "metadata": {},
   "source": [
    "## Generator"
   ]
  },
  {
   "cell_type": "code",
   "execution_count": 8,
   "metadata": {},
   "outputs": [],
   "source": [
    "class Generator(nn.Module):\n",
    "    def __init__(self, z_dim, channels):\n",
    "        super(Generator, self).__init__()\n",
    "        self.model = nn.Sequential(\n",
    "            nn.ConvTranspose2d(z_dim, 512, kernel_size=4, stride=1, padding=0, bias=False),\n",
    "            nn.BatchNorm2d(512, momentum=0.9),\n",
    "            nn.LeakyReLU(0.2, inplace=True),\n",
    "            \n",
    "            nn.ConvTranspose2d(512, 256, kernel_size=4, stride=2, padding=1, bias=False),\n",
    "            nn.BatchNorm2d(256, momentum=0.9),\n",
    "            nn.LeakyReLU(0.2, inplace=True),\n",
    "            \n",
    "            nn.ConvTranspose2d(256, 128, kernel_size=4, stride=2, padding=1, bias=False),\n",
    "            nn.BatchNorm2d(128, momentum=0.9),\n",
    "            nn.LeakyReLU(0.2, inplace=True),\n",
    "            \n",
    "            nn.ConvTranspose2d(128, 64, kernel_size=4, stride=2, padding=1, bias=False),\n",
    "            nn.BatchNorm2d(64, momentum=0.9),\n",
    "            nn.LeakyReLU(0.2, inplace=True),\n",
    "            \n",
    "            nn.ConvTranspose2d(64, channels, kernel_size=4, stride=2, padding=1, bias=False),\n",
    "            nn.Tanh()\n",
    "        )\n",
    "\n",
    "    def forward(self, x):\n",
    "        x = x.view(x.size(0), -1, 1, 1)  # (batch_size, z_dim) -> (batch_size, z_dim, 1, 1)\n",
    "        return self.model(x)"
   ]
  },
  {
   "cell_type": "code",
   "execution_count": 9,
   "metadata": {},
   "outputs": [
    {
     "data": {
      "text/plain": [
       "==========================================================================================\n",
       "Layer (type:depth-idx)                   Output Shape              Param #\n",
       "==========================================================================================\n",
       "Generator                                [128, 1, 64, 64]          --\n",
       "├─Sequential: 1-1                        [128, 1, 64, 64]          --\n",
       "│    └─ConvTranspose2d: 2-1              [128, 512, 4, 4]          819,200\n",
       "│    └─BatchNorm2d: 2-2                  [128, 512, 4, 4]          1,024\n",
       "│    └─LeakyReLU: 2-3                    [128, 512, 4, 4]          --\n",
       "│    └─ConvTranspose2d: 2-4              [128, 256, 8, 8]          2,097,152\n",
       "│    └─BatchNorm2d: 2-5                  [128, 256, 8, 8]          512\n",
       "│    └─LeakyReLU: 2-6                    [128, 256, 8, 8]          --\n",
       "│    └─ConvTranspose2d: 2-7              [128, 128, 16, 16]        524,288\n",
       "│    └─BatchNorm2d: 2-8                  [128, 128, 16, 16]        256\n",
       "│    └─LeakyReLU: 2-9                    [128, 128, 16, 16]        --\n",
       "│    └─ConvTranspose2d: 2-10             [128, 64, 32, 32]         131,072\n",
       "│    └─BatchNorm2d: 2-11                 [128, 64, 32, 32]         128\n",
       "│    └─LeakyReLU: 2-12                   [128, 64, 32, 32]         --\n",
       "│    └─ConvTranspose2d: 2-13             [128, 1, 64, 64]          1,024\n",
       "│    └─Tanh: 2-14                        [128, 1, 64, 64]          --\n",
       "==========================================================================================\n",
       "Total params: 3,574,656\n",
       "Trainable params: 3,574,656\n",
       "Non-trainable params: 0\n",
       "Total mult-adds (Units.GIGABYTES): 53.75\n",
       "==========================================================================================\n",
       "Input size (MB): 0.05\n",
       "Forward/backward pass size (MB): 255.85\n",
       "Params size (MB): 14.30\n",
       "Estimated Total Size (MB): 270.20\n",
       "=========================================================================================="
      ]
     },
     "execution_count": 9,
     "metadata": {},
     "output_type": "execute_result"
    }
   ],
   "source": [
    "generator = Generator(z_dim=Z_DIM, channels=CHANNELS)\n",
    "summary(generator, input_size=(BATCH_SIZE, Z_DIM))"
   ]
  },
  {
   "cell_type": "markdown",
   "metadata": {},
   "source": [
    "## GAN"
   ]
  },
  {
   "cell_type": "code",
   "execution_count": 25,
   "metadata": {},
   "outputs": [],
   "source": [
    "class DCGAN(nn.Module):\n",
    "    def __init__(self, discriminator, generator, latent_dim, noise_param=0.1):\n",
    "        super(DCGAN, self).__init__()\n",
    "        self.discriminator = discriminator\n",
    "        self.generator = generator\n",
    "        self.latent_dim = latent_dim\n",
    "        \n",
    "        # Loss function (Binary Cross Entropy)\n",
    "        self.loss_fn = nn.BCELoss()\n",
    "\n",
    "        # Metrics\n",
    "        self.d_loss_metric = torchmetrics.MeanMetric()\n",
    "        self.d_real_acc_metric = torchmetrics.Accuracy(task=\"binary\")\n",
    "        self.d_fake_acc_metric = torchmetrics.Accuracy(task=\"binary\")\n",
    "        self.d_acc_metric = torchmetrics.Accuracy(task=\"binary\")\n",
    "        self.g_loss_metric = torchmetrics.MeanMetric()\n",
    "        self.g_acc_metric = torchmetrics.Accuracy(task=\"binary\")\n",
    "        \n",
    "        # Optimizer\n",
    "        self.d_optimizer = optim.Adam(self.discriminator.parameters(), \n",
    "                                      lr=LEARNING_RATE, \n",
    "                                      betas=(ADAM_BETA_1, ADAM_BETA_2))\n",
    "        self.g_optimizer = optim.Adam(self.generator.parameters(), \n",
    "                                      lr=LEARNING_RATE, \n",
    "                                      betas=(ADAM_BETA_1, ADAM_BETA_2))\n",
    "    \n",
    "    def forward(self, x):\n",
    "        return self.generator(x)\n",
    "    \n",
    "    def train_step(self, real_images):\n",
    "        batch_size = real_images.size(0)\n",
    "        device = real_images.device\n",
    "\n",
    "        # Random latent vectors for generator input\n",
    "        random_latent_vectors = torch.randn(batch_size, self.latent_dim, 1, 1, device=device)\n",
    "        generated_images = self.generator(random_latent_vectors)\n",
    "\n",
    "        # Train Discriminator\n",
    "        self.discriminator.zero_grad()\n",
    "\n",
    "        # Real images\n",
    "        real_predictions = self.discriminator(real_images)\n",
    "        real_labels = torch.ones_like(real_predictions, device=device)\n",
    "        real_noisy_labels = real_labels + NOISE_PARAM * torch.rand_like(real_predictions)\n",
    "\n",
    "        # Clamp the noisy labels to be in the range [0, 1]\n",
    "        real_noisy_labels = torch.clamp(real_noisy_labels, 0, 1)\n",
    "\n",
    "        # Fake images\n",
    "        fake_predictions = self.discriminator(generated_images.detach())\n",
    "        fake_labels = torch.zeros_like(fake_predictions, device=device)\n",
    "        fake_noisy_labels = fake_labels - NOISE_PARAM * torch.rand_like(fake_predictions)\n",
    "\n",
    "        # Clamp the noisy labels to be in the range [0, 1]\n",
    "        fake_noisy_labels = torch.clamp(fake_noisy_labels, 0, 1)\n",
    "\n",
    "        # Discriminator loss\n",
    "        d_real_loss = self.loss_fn(real_predictions, real_noisy_labels)\n",
    "        d_fake_loss = self.loss_fn(fake_predictions, fake_noisy_labels)\n",
    "        d_loss = (d_real_loss + d_fake_loss) / 2.0\n",
    "        d_loss.backward()\n",
    "        self.d_optimizer.step()\n",
    "\n",
    "        # Train Generator\n",
    "        self.generator.zero_grad()\n",
    "        fake_predictions = self.discriminator(generated_images)\n",
    "        g_loss = self.loss_fn(fake_predictions, real_labels)\n",
    "        g_loss.backward()\n",
    "        self.g_optimizer.step()\n",
    "\n",
    "        # Apply threshold for binary accuracy calculation (fake_predictions > 0.5 -> 1, else 0)\n",
    "        binary_fake_predictions = (fake_predictions > 0.5).float()\n",
    "\n",
    "        # Update metrics\n",
    "        self.d_loss_metric.update(d_loss.item())\n",
    "        self.d_acc_metric.update(torch.cat((real_predictions, fake_predictions)), torch.cat((real_labels, fake_labels)))\n",
    "        self.g_loss_metric.update(g_loss.item())\n",
    "        self.g_acc_metric.update(real_labels, binary_fake_predictions)  # Correctly update g_acc_metric after each batch\n",
    "\n",
    "        return {\n",
    "            'd_loss': self.d_loss_metric.compute(),\n",
    "            'd_real_acc': self.d_real_acc_metric.compute(),\n",
    "            'd_fake_acc': self.d_fake_acc_metric.compute(),\n",
    "            'd_acc': self.d_acc_metric.compute(),\n",
    "            'g_loss': self.g_loss_metric.compute(),\n",
    "            'g_acc': self.g_acc_metric.compute(),\n",
    "        }"
   ]
  },
  {
   "cell_type": "code",
   "execution_count": 21,
   "metadata": {},
   "outputs": [],
   "source": [
    "discriminator = Discriminator(image_size=IMAGE_SIZE, channels=CHANNELS)\n",
    "generator = Generator(z_dim=Z_DIM, channels=CHANNELS)\n",
    "dcgan = DCGAN(discriminator, generator, latent_dim=Z_DIM)"
   ]
  },
  {
   "cell_type": "markdown",
   "metadata": {},
   "source": [
    "# Train"
   ]
  },
  {
   "cell_type": "code",
   "execution_count": 22,
   "metadata": {},
   "outputs": [],
   "source": [
    "class ImageGenerator:\n",
    "    def __init__(self, model, num_img, latent_dim, save_dir=\"./output\"):\n",
    "        self.num_img = num_img\n",
    "        self.latent_dim = latent_dim\n",
    "        self.model = model\n",
    "        self.save_dir = save_dir\n",
    "        if not os.path.exists(save_dir):\n",
    "            os.makedirs(save_dir)\n",
    "    \n",
    "    def on_epoch_end(self, epoch):\n",
    "        random_latent_vectors = torch.randn(self.num_img, self.latent_dim, 1, 1).to(next(self.model.generator.parameters()).device)\n",
    "        generated_images = self.model.generator(random_latent_vectors)\n",
    "        generated_images = (generated_images * 0.5 + 0.5)  # [-1, 1] 범위를 [0, 1]로 변환\n",
    "        save_path = os.path.join(self.save_dir, f\"generated_img_{epoch:03d}.png\")\n",
    "        save_image(generated_images, save_path, nrow=5)\n",
    "        print(f\"Saved to {save_path}\")"
   ]
  },
  {
   "cell_type": "code",
   "execution_count": 26,
   "metadata": {},
   "outputs": [],
   "source": [
    "def train_dcgan(dcgan, train_loader, epochs):\n",
    "    image_generator = ImageGenerator(dcgan, num_img=10, latent_dim=Z_DIM, save_dir=\"./output\")\n",
    "    for epoch in range(epochs):\n",
    "        dcgan.train()  # 모델을 학습 모드로 설정\n",
    "        d_loss_epoch, g_loss_epoch = 0, 0\n",
    "\n",
    "        # tqdm을 사용한 학습 진행 상황 출력\n",
    "        with tqdm(total=len(train_loader), desc=f\"Epoch {epoch+1}/{epochs}\", unit=\"batch\") as pbar:\n",
    "            for real_images in train_loader:\n",
    "                real_images = real_images.to(next(dcgan.parameters()).device)\n",
    "\n",
    "                # 각 배치에 대해 train_step 호출\n",
    "                metrics = dcgan.train_step(real_images)\n",
    "\n",
    "                # 배치 손실을 누적\n",
    "                d_loss_epoch += metrics['d_loss']\n",
    "                g_loss_epoch += metrics['g_loss']\n",
    "\n",
    "                # tqdm의 진행 바 업데이트 및 손실 정보 출력\n",
    "                pbar.set_postfix({\n",
    "                    'd_loss': f\"{metrics['d_loss']:.4f}\",\n",
    "                    'd_acc': f\"{metrics['d_acc']:.4f}\",\n",
    "                    'g_loss': f\"{metrics['g_loss']:.4f}\",\n",
    "                    'g_acc': f\"{metrics['g_acc']:.4f}\"\n",
    "                })\n",
    "                pbar.update(1)\n",
    "\n",
    "        # 에포크 끝난 후 평균 손실 출력\n",
    "        print(f\"\\nEpoch {epoch+1}/{epochs} - d_loss: {d_loss_epoch/len(train_loader):.4f} - \"\n",
    "              f\"g_loss: {g_loss_epoch/len(train_loader):.4f}\")\n",
    "        \n",
    "        # 에포크가 끝날 때 이미지 생성 및 저장\n",
    "        image_generator.on_epoch_end(epoch)"
   ]
  },
  {
   "cell_type": "code",
   "execution_count": 27,
   "metadata": {},
   "outputs": [
    {
     "name": "stdout",
     "output_type": "stream",
     "text": [
      "MPS device is available.\n"
     ]
    },
    {
     "name": "stderr",
     "output_type": "stream",
     "text": [
      "Epoch 1/100: 100%|██████████| 313/313 [02:52<00:00,  1.81batch/s, d_loss=0.0105, d_acc=0.9984, g_loss=7.8531, g_acc=0.0009]\n"
     ]
    },
    {
     "name": "stdout",
     "output_type": "stream",
     "text": [
      "\n",
      "Epoch 1/100 - d_loss: 0.0470 - g_loss: 6.4093\n",
      "Saved to ./output/generated_img_000.png\n"
     ]
    },
    {
     "name": "stderr",
     "output_type": "stream",
     "text": [
      "Epoch 2/100: 100%|██████████| 313/313 [02:46<00:00,  1.88batch/s, d_loss=0.0918, d_acc=0.9913, g_loss=9.4792, g_acc=0.0061]\n"
     ]
    },
    {
     "name": "stdout",
     "output_type": "stream",
     "text": [
      "\n",
      "Epoch 2/100 - d_loss: 0.0037 - g_loss: 9.3804\n",
      "Saved to ./output/generated_img_001.png\n"
     ]
    },
    {
     "name": "stderr",
     "output_type": "stream",
     "text": [
      "Epoch 3/100: 100%|██████████| 313/313 [03:35<00:00,  1.45batch/s, d_loss=0.3312, d_acc=0.9033, g_loss=4.5950, g_acc=0.0574]\n"
     ]
    },
    {
     "name": "stdout",
     "output_type": "stream",
     "text": [
      "\n",
      "Epoch 3/100 - d_loss: 0.1753 - g_loss: 6.1605\n",
      "Saved to ./output/generated_img_002.png\n"
     ]
    },
    {
     "name": "stderr",
     "output_type": "stream",
     "text": [
      "Epoch 4/100: 100%|██████████| 313/313 [02:45<00:00,  1.90batch/s, d_loss=0.4500, d_acc=0.8725, g_loss=2.2424, g_acc=0.0639]\n"
     ]
    },
    {
     "name": "stdout",
     "output_type": "stream",
     "text": [
      "\n",
      "Epoch 4/100 - d_loss: 0.4763 - g_loss: 2.1117\n",
      "Saved to ./output/generated_img_003.png\n"
     ]
    },
    {
     "name": "stderr",
     "output_type": "stream",
     "text": [
      "Epoch 5/100: 100%|██████████| 313/313 [02:50<00:00,  1.83batch/s, d_loss=0.4183, d_acc=0.8912, g_loss=2.5488, g_acc=0.0426]\n"
     ]
    },
    {
     "name": "stdout",
     "output_type": "stream",
     "text": [
      "\n",
      "Epoch 5/100 - d_loss: 0.4006 - g_loss: 2.6311\n",
      "Saved to ./output/generated_img_004.png\n"
     ]
    },
    {
     "name": "stderr",
     "output_type": "stream",
     "text": [
      "Epoch 6/100: 100%|██████████| 313/313 [02:48<00:00,  1.86batch/s, d_loss=0.3682, d_acc=0.9057, g_loss=2.7669, g_acc=0.0398]\n"
     ]
    },
    {
     "name": "stdout",
     "output_type": "stream",
     "text": [
      "\n",
      "Epoch 6/100 - d_loss: 0.3759 - g_loss: 2.7210\n",
      "Saved to ./output/generated_img_005.png\n"
     ]
    },
    {
     "name": "stderr",
     "output_type": "stream",
     "text": [
      "Epoch 7/100: 100%|██████████| 313/313 [02:46<00:00,  1.89batch/s, d_loss=0.3857, d_acc=0.8980, g_loss=2.5543, g_acc=0.0363]\n"
     ]
    },
    {
     "name": "stdout",
     "output_type": "stream",
     "text": [
      "\n",
      "Epoch 7/100 - d_loss: 0.3863 - g_loss: 2.5931\n",
      "Saved to ./output/generated_img_006.png\n"
     ]
    },
    {
     "name": "stderr",
     "output_type": "stream",
     "text": [
      "Epoch 8/100: 100%|██████████| 313/313 [02:51<00:00,  1.82batch/s, d_loss=0.3796, d_acc=0.8932, g_loss=2.5908, g_acc=0.0455]\n"
     ]
    },
    {
     "name": "stdout",
     "output_type": "stream",
     "text": [
      "\n",
      "Epoch 8/100 - d_loss: 0.3926 - g_loss: 2.6535\n",
      "Saved to ./output/generated_img_007.png\n"
     ]
    },
    {
     "name": "stderr",
     "output_type": "stream",
     "text": [
      "Epoch 9/100: 100%|██████████| 313/313 [02:52<00:00,  1.82batch/s, d_loss=0.3663, d_acc=0.9007, g_loss=2.6660, g_acc=0.0444]\n"
     ]
    },
    {
     "name": "stdout",
     "output_type": "stream",
     "text": [
      "\n",
      "Epoch 9/100 - d_loss: 0.3588 - g_loss: 2.9301\n",
      "Saved to ./output/generated_img_008.png\n"
     ]
    },
    {
     "name": "stderr",
     "output_type": "stream",
     "text": [
      "Epoch 10/100: 100%|██████████| 313/313 [02:49<00:00,  1.85batch/s, d_loss=0.3493, d_acc=0.8979, g_loss=2.6094, g_acc=0.0532]\n"
     ]
    },
    {
     "name": "stdout",
     "output_type": "stream",
     "text": [
      "\n",
      "Epoch 10/100 - d_loss: 0.3457 - g_loss: 2.6588\n",
      "Saved to ./output/generated_img_009.png\n"
     ]
    },
    {
     "name": "stderr",
     "output_type": "stream",
     "text": [
      "Epoch 11/100: 100%|██████████| 313/313 [02:47<00:00,  1.87batch/s, d_loss=0.3403, d_acc=0.9059, g_loss=2.6685, g_acc=0.0515]\n"
     ]
    },
    {
     "name": "stdout",
     "output_type": "stream",
     "text": [
      "\n",
      "Epoch 11/100 - d_loss: 0.3416 - g_loss: 2.7281\n",
      "Saved to ./output/generated_img_010.png\n"
     ]
    },
    {
     "name": "stderr",
     "output_type": "stream",
     "text": [
      "Epoch 12/100: 100%|██████████| 313/313 [02:50<00:00,  1.84batch/s, d_loss=0.3171, d_acc=0.9123, g_loss=2.6776, g_acc=0.0500]\n"
     ]
    },
    {
     "name": "stdout",
     "output_type": "stream",
     "text": [
      "\n",
      "Epoch 12/100 - d_loss: 0.3076 - g_loss: 2.7095\n",
      "Saved to ./output/generated_img_011.png\n"
     ]
    },
    {
     "name": "stderr",
     "output_type": "stream",
     "text": [
      "Epoch 13/100: 100%|██████████| 313/313 [02:50<00:00,  1.83batch/s, d_loss=0.3117, d_acc=0.9181, g_loss=2.8449, g_acc=0.0435]\n"
     ]
    },
    {
     "name": "stdout",
     "output_type": "stream",
     "text": [
      "\n",
      "Epoch 13/100 - d_loss: 0.3177 - g_loss: 2.8747\n",
      "Saved to ./output/generated_img_012.png\n"
     ]
    },
    {
     "name": "stderr",
     "output_type": "stream",
     "text": [
      "Epoch 14/100: 100%|██████████| 313/313 [02:47<00:00,  1.87batch/s, d_loss=0.3093, d_acc=0.9079, g_loss=2.8048, g_acc=0.0549]\n"
     ]
    },
    {
     "name": "stdout",
     "output_type": "stream",
     "text": [
      "\n",
      "Epoch 14/100 - d_loss: 0.3076 - g_loss: 2.8659\n",
      "Saved to ./output/generated_img_013.png\n"
     ]
    },
    {
     "name": "stderr",
     "output_type": "stream",
     "text": [
      "Epoch 15/100: 100%|██████████| 313/313 [02:48<00:00,  1.85batch/s, d_loss=0.2892, d_acc=0.9143, g_loss=2.8157, g_acc=0.0571]\n"
     ]
    },
    {
     "name": "stdout",
     "output_type": "stream",
     "text": [
      "\n",
      "Epoch 15/100 - d_loss: 0.2930 - g_loss: 2.7004\n",
      "Saved to ./output/generated_img_014.png\n"
     ]
    },
    {
     "name": "stderr",
     "output_type": "stream",
     "text": [
      "Epoch 16/100: 100%|██████████| 313/313 [02:50<00:00,  1.83batch/s, d_loss=0.2741, d_acc=0.9241, g_loss=2.8993, g_acc=0.0458]\n"
     ]
    },
    {
     "name": "stdout",
     "output_type": "stream",
     "text": [
      "\n",
      "Epoch 16/100 - d_loss: 0.2751 - g_loss: 2.7889\n",
      "Saved to ./output/generated_img_015.png\n"
     ]
    },
    {
     "name": "stderr",
     "output_type": "stream",
     "text": [
      "Epoch 17/100: 100%|██████████| 313/313 [02:46<00:00,  1.88batch/s, d_loss=0.2840, d_acc=0.9140, g_loss=2.8820, g_acc=0.0580]\n"
     ]
    },
    {
     "name": "stdout",
     "output_type": "stream",
     "text": [
      "\n",
      "Epoch 17/100 - d_loss: 0.2844 - g_loss: 2.8374\n",
      "Saved to ./output/generated_img_016.png\n"
     ]
    },
    {
     "name": "stderr",
     "output_type": "stream",
     "text": [
      "Epoch 18/100: 100%|██████████| 313/313 [02:50<00:00,  1.83batch/s, d_loss=0.2545, d_acc=0.9261, g_loss=2.8615, g_acc=0.0532]\n"
     ]
    },
    {
     "name": "stdout",
     "output_type": "stream",
     "text": [
      "\n",
      "Epoch 18/100 - d_loss: 0.2623 - g_loss: 2.8317\n",
      "Saved to ./output/generated_img_017.png\n"
     ]
    },
    {
     "name": "stderr",
     "output_type": "stream",
     "text": [
      "Epoch 19/100: 100%|██████████| 313/313 [02:48<00:00,  1.85batch/s, d_loss=0.2354, d_acc=0.9338, g_loss=3.1219, g_acc=0.0428]\n"
     ]
    },
    {
     "name": "stdout",
     "output_type": "stream",
     "text": [
      "\n",
      "Epoch 19/100 - d_loss: 0.2613 - g_loss: 3.0335\n",
      "Saved to ./output/generated_img_018.png\n"
     ]
    },
    {
     "name": "stderr",
     "output_type": "stream",
     "text": [
      "Epoch 20/100: 100%|██████████| 313/313 [02:48<00:00,  1.86batch/s, d_loss=0.2419, d_acc=0.9320, g_loss=3.0541, g_acc=0.0444]\n"
     ]
    },
    {
     "name": "stdout",
     "output_type": "stream",
     "text": [
      "\n",
      "Epoch 20/100 - d_loss: 0.2632 - g_loss: 3.0556\n",
      "Saved to ./output/generated_img_019.png\n"
     ]
    },
    {
     "name": "stderr",
     "output_type": "stream",
     "text": [
      "Epoch 21/100: 100%|██████████| 313/313 [02:51<00:00,  1.82batch/s, d_loss=0.2216, d_acc=0.9353, g_loss=3.1444, g_acc=0.0449]\n"
     ]
    },
    {
     "name": "stdout",
     "output_type": "stream",
     "text": [
      "\n",
      "Epoch 21/100 - d_loss: 0.2208 - g_loss: 3.1216\n",
      "Saved to ./output/generated_img_020.png\n"
     ]
    },
    {
     "name": "stderr",
     "output_type": "stream",
     "text": [
      "Epoch 22/100: 100%|██████████| 313/313 [02:49<00:00,  1.85batch/s, d_loss=0.2228, d_acc=0.9350, g_loss=3.1938, g_acc=0.0459]\n"
     ]
    },
    {
     "name": "stdout",
     "output_type": "stream",
     "text": [
      "\n",
      "Epoch 22/100 - d_loss: 0.2288 - g_loss: 3.1559\n",
      "Saved to ./output/generated_img_021.png\n"
     ]
    },
    {
     "name": "stderr",
     "output_type": "stream",
     "text": [
      "Epoch 23/100: 100%|██████████| 313/313 [02:48<00:00,  1.86batch/s, d_loss=0.2367, d_acc=0.9250, g_loss=3.1784, g_acc=0.0494]\n"
     ]
    },
    {
     "name": "stdout",
     "output_type": "stream",
     "text": [
      "\n",
      "Epoch 23/100 - d_loss: 0.2554 - g_loss: 3.1283\n",
      "Saved to ./output/generated_img_022.png\n"
     ]
    },
    {
     "name": "stderr",
     "output_type": "stream",
     "text": [
      "Epoch 24/100: 100%|██████████| 313/313 [02:49<00:00,  1.85batch/s, d_loss=0.2406, d_acc=0.9258, g_loss=3.1785, g_acc=0.0546]\n"
     ]
    },
    {
     "name": "stdout",
     "output_type": "stream",
     "text": [
      "\n",
      "Epoch 24/100 - d_loss: 0.2384 - g_loss: 3.1272\n",
      "Saved to ./output/generated_img_023.png\n"
     ]
    },
    {
     "name": "stderr",
     "output_type": "stream",
     "text": [
      "Epoch 25/100: 100%|██████████| 313/313 [02:47<00:00,  1.87batch/s, d_loss=0.2299, d_acc=0.9298, g_loss=3.2322, g_acc=0.0510]\n"
     ]
    },
    {
     "name": "stdout",
     "output_type": "stream",
     "text": [
      "\n",
      "Epoch 25/100 - d_loss: 0.2272 - g_loss: 3.2089\n",
      "Saved to ./output/generated_img_024.png\n"
     ]
    },
    {
     "name": "stderr",
     "output_type": "stream",
     "text": [
      "Epoch 26/100: 100%|██████████| 313/313 [02:47<00:00,  1.87batch/s, d_loss=0.2158, d_acc=0.9334, g_loss=3.3622, g_acc=0.0468]\n"
     ]
    },
    {
     "name": "stdout",
     "output_type": "stream",
     "text": [
      "\n",
      "Epoch 26/100 - d_loss: 0.1963 - g_loss: 3.3568\n",
      "Saved to ./output/generated_img_025.png\n"
     ]
    },
    {
     "name": "stderr",
     "output_type": "stream",
     "text": [
      "Epoch 27/100: 100%|██████████| 313/313 [02:49<00:00,  1.85batch/s, d_loss=0.1796, d_acc=0.9514, g_loss=3.5879, g_acc=0.0312]\n"
     ]
    },
    {
     "name": "stdout",
     "output_type": "stream",
     "text": [
      "\n",
      "Epoch 27/100 - d_loss: 0.1715 - g_loss: 3.6033\n",
      "Saved to ./output/generated_img_026.png\n"
     ]
    },
    {
     "name": "stderr",
     "output_type": "stream",
     "text": [
      "Epoch 28/100: 100%|██████████| 313/313 [02:49<00:00,  1.85batch/s, d_loss=0.2187, d_acc=0.9336, g_loss=3.5372, g_acc=0.0477]\n"
     ]
    },
    {
     "name": "stdout",
     "output_type": "stream",
     "text": [
      "\n",
      "Epoch 28/100 - d_loss: 0.2468 - g_loss: 3.5434\n",
      "Saved to ./output/generated_img_027.png\n"
     ]
    },
    {
     "name": "stderr",
     "output_type": "stream",
     "text": [
      "Epoch 29/100: 100%|██████████| 313/313 [02:48<00:00,  1.85batch/s, d_loss=0.1967, d_acc=0.9427, g_loss=3.5234, g_acc=0.0454]\n"
     ]
    },
    {
     "name": "stdout",
     "output_type": "stream",
     "text": [
      "\n",
      "Epoch 29/100 - d_loss: 0.2055 - g_loss: 3.4498\n",
      "Saved to ./output/generated_img_028.png\n"
     ]
    },
    {
     "name": "stderr",
     "output_type": "stream",
     "text": [
      "Epoch 30/100: 100%|██████████| 313/313 [02:47<00:00,  1.86batch/s, d_loss=0.1826, d_acc=0.9462, g_loss=3.5945, g_acc=0.0392]\n"
     ]
    },
    {
     "name": "stdout",
     "output_type": "stream",
     "text": [
      "\n",
      "Epoch 30/100 - d_loss: 0.1618 - g_loss: 3.7813\n",
      "Saved to ./output/generated_img_029.png\n"
     ]
    },
    {
     "name": "stderr",
     "output_type": "stream",
     "text": [
      "Epoch 31/100: 100%|██████████| 313/313 [02:54<00:00,  1.79batch/s, d_loss=0.2010, d_acc=0.9370, g_loss=3.5692, g_acc=0.0474]\n"
     ]
    },
    {
     "name": "stdout",
     "output_type": "stream",
     "text": [
      "\n",
      "Epoch 31/100 - d_loss: 0.1874 - g_loss: 3.6447\n",
      "Saved to ./output/generated_img_030.png\n"
     ]
    },
    {
     "name": "stderr",
     "output_type": "stream",
     "text": [
      "Epoch 32/100: 100%|██████████| 313/313 [02:49<00:00,  1.85batch/s, d_loss=0.1691, d_acc=0.9493, g_loss=3.7840, g_acc=0.0382]\n"
     ]
    },
    {
     "name": "stdout",
     "output_type": "stream",
     "text": [
      "\n",
      "Epoch 32/100 - d_loss: 0.1584 - g_loss: 3.7793\n",
      "Saved to ./output/generated_img_031.png\n"
     ]
    },
    {
     "name": "stderr",
     "output_type": "stream",
     "text": [
      "Epoch 33/100: 100%|██████████| 313/313 [02:51<00:00,  1.82batch/s, d_loss=0.1818, d_acc=0.9415, g_loss=3.6624, g_acc=0.0463]\n"
     ]
    },
    {
     "name": "stdout",
     "output_type": "stream",
     "text": [
      "\n",
      "Epoch 33/100 - d_loss: 0.2100 - g_loss: 3.4593\n",
      "Saved to ./output/generated_img_032.png\n"
     ]
    },
    {
     "name": "stderr",
     "output_type": "stream",
     "text": [
      "Epoch 34/100: 100%|██████████| 313/313 [02:50<00:00,  1.83batch/s, d_loss=0.1962, d_acc=0.9415, g_loss=3.7812, g_acc=0.0436]\n"
     ]
    },
    {
     "name": "stdout",
     "output_type": "stream",
     "text": [
      "\n",
      "Epoch 34/100 - d_loss: 0.1947 - g_loss: 3.8991\n",
      "Saved to ./output/generated_img_033.png\n"
     ]
    },
    {
     "name": "stderr",
     "output_type": "stream",
     "text": [
      "Epoch 35/100: 100%|██████████| 313/313 [02:47<00:00,  1.87batch/s, d_loss=0.1794, d_acc=0.9471, g_loss=3.7280, g_acc=0.0435]\n"
     ]
    },
    {
     "name": "stdout",
     "output_type": "stream",
     "text": [
      "\n",
      "Epoch 35/100 - d_loss: 0.1810 - g_loss: 3.6911\n",
      "Saved to ./output/generated_img_034.png\n"
     ]
    },
    {
     "name": "stderr",
     "output_type": "stream",
     "text": [
      "Epoch 36/100: 100%|██████████| 313/313 [02:47<00:00,  1.86batch/s, d_loss=0.1580, d_acc=0.9570, g_loss=3.9186, g_acc=0.0297]\n"
     ]
    },
    {
     "name": "stdout",
     "output_type": "stream",
     "text": [
      "\n",
      "Epoch 36/100 - d_loss: 0.1490 - g_loss: 3.9824\n",
      "Saved to ./output/generated_img_035.png\n"
     ]
    },
    {
     "name": "stderr",
     "output_type": "stream",
     "text": [
      "Epoch 37/100: 100%|██████████| 313/313 [02:50<00:00,  1.84batch/s, d_loss=0.1919, d_acc=0.9405, g_loss=3.7955, g_acc=0.0439]\n"
     ]
    },
    {
     "name": "stdout",
     "output_type": "stream",
     "text": [
      "\n",
      "Epoch 37/100 - d_loss: 0.2117 - g_loss: 3.8506\n",
      "Saved to ./output/generated_img_036.png\n"
     ]
    },
    {
     "name": "stderr",
     "output_type": "stream",
     "text": [
      "Epoch 38/100: 100%|██████████| 313/313 [02:48<00:00,  1.85batch/s, d_loss=0.1622, d_acc=0.9488, g_loss=3.9973, g_acc=0.0409]\n"
     ]
    },
    {
     "name": "stdout",
     "output_type": "stream",
     "text": [
      "\n",
      "Epoch 38/100 - d_loss: 0.1473 - g_loss: 3.9588\n",
      "Saved to ./output/generated_img_037.png\n"
     ]
    },
    {
     "name": "stderr",
     "output_type": "stream",
     "text": [
      "Epoch 39/100: 100%|██████████| 313/313 [02:51<00:00,  1.83batch/s, d_loss=0.1801, d_acc=0.9431, g_loss=3.8710, g_acc=0.0450]\n"
     ]
    },
    {
     "name": "stdout",
     "output_type": "stream",
     "text": [
      "\n",
      "Epoch 39/100 - d_loss: 0.1752 - g_loss: 3.8605\n",
      "Saved to ./output/generated_img_038.png\n"
     ]
    },
    {
     "name": "stderr",
     "output_type": "stream",
     "text": [
      "Epoch 40/100: 100%|██████████| 313/313 [02:50<00:00,  1.84batch/s, d_loss=0.1508, d_acc=0.9576, g_loss=4.0392, g_acc=0.0309]\n"
     ]
    },
    {
     "name": "stdout",
     "output_type": "stream",
     "text": [
      "\n",
      "Epoch 40/100 - d_loss: 0.1647 - g_loss: 3.9805\n",
      "Saved to ./output/generated_img_039.png\n"
     ]
    },
    {
     "name": "stderr",
     "output_type": "stream",
     "text": [
      "Epoch 41/100: 100%|██████████| 313/313 [02:50<00:00,  1.83batch/s, d_loss=0.1661, d_acc=0.9520, g_loss=4.0950, g_acc=0.0352]\n"
     ]
    },
    {
     "name": "stdout",
     "output_type": "stream",
     "text": [
      "\n",
      "Epoch 41/100 - d_loss: 0.1571 - g_loss: 4.2527\n",
      "Saved to ./output/generated_img_040.png\n"
     ]
    },
    {
     "name": "stderr",
     "output_type": "stream",
     "text": [
      "Epoch 42/100: 100%|██████████| 313/313 [02:49<00:00,  1.85batch/s, d_loss=0.1862, d_acc=0.9438, g_loss=4.0204, g_acc=0.0450]\n"
     ]
    },
    {
     "name": "stdout",
     "output_type": "stream",
     "text": [
      "\n",
      "Epoch 42/100 - d_loss: 0.1769 - g_loss: 4.0752\n",
      "Saved to ./output/generated_img_041.png\n"
     ]
    },
    {
     "name": "stderr",
     "output_type": "stream",
     "text": [
      "Epoch 43/100: 100%|██████████| 313/313 [02:47<00:00,  1.86batch/s, d_loss=0.1537, d_acc=0.9532, g_loss=4.0997, g_acc=0.0354]\n"
     ]
    },
    {
     "name": "stdout",
     "output_type": "stream",
     "text": [
      "\n",
      "Epoch 43/100 - d_loss: 0.1866 - g_loss: 3.8894\n",
      "Saved to ./output/generated_img_042.png\n"
     ]
    },
    {
     "name": "stderr",
     "output_type": "stream",
     "text": [
      "Epoch 44/100: 100%|██████████| 313/313 [02:50<00:00,  1.84batch/s, d_loss=0.1954, d_acc=0.9382, g_loss=4.0030, g_acc=0.0516]\n"
     ]
    },
    {
     "name": "stdout",
     "output_type": "stream",
     "text": [
      "\n",
      "Epoch 44/100 - d_loss: 0.1872 - g_loss: 4.1610\n",
      "Saved to ./output/generated_img_043.png\n"
     ]
    },
    {
     "name": "stderr",
     "output_type": "stream",
     "text": [
      "Epoch 45/100: 100%|██████████| 313/313 [02:50<00:00,  1.83batch/s, d_loss=0.1618, d_acc=0.9511, g_loss=4.1090, g_acc=0.0373]\n"
     ]
    },
    {
     "name": "stdout",
     "output_type": "stream",
     "text": [
      "\n",
      "Epoch 45/100 - d_loss: 0.1193 - g_loss: 4.1590\n",
      "Saved to ./output/generated_img_044.png\n"
     ]
    },
    {
     "name": "stderr",
     "output_type": "stream",
     "text": [
      "Epoch 46/100: 100%|██████████| 313/313 [02:50<00:00,  1.84batch/s, d_loss=0.1400, d_acc=0.9602, g_loss=4.1974, g_acc=0.0298]\n"
     ]
    },
    {
     "name": "stdout",
     "output_type": "stream",
     "text": [
      "\n",
      "Epoch 46/100 - d_loss: 0.1342 - g_loss: 4.1172\n",
      "Saved to ./output/generated_img_045.png\n"
     ]
    },
    {
     "name": "stderr",
     "output_type": "stream",
     "text": [
      "Epoch 47/100: 100%|██████████| 313/313 [02:58<00:00,  1.75batch/s, d_loss=0.1520, d_acc=0.9527, g_loss=4.1138, g_acc=0.0417]\n"
     ]
    },
    {
     "name": "stdout",
     "output_type": "stream",
     "text": [
      "\n",
      "Epoch 47/100 - d_loss: 0.1433 - g_loss: 4.2361\n",
      "Saved to ./output/generated_img_046.png\n"
     ]
    },
    {
     "name": "stderr",
     "output_type": "stream",
     "text": [
      "Epoch 48/100: 100%|██████████| 313/313 [03:22<00:00,  1.55batch/s, d_loss=0.1183, d_acc=0.9658, g_loss=4.3223, g_acc=0.0291]\n"
     ]
    },
    {
     "name": "stdout",
     "output_type": "stream",
     "text": [
      "\n",
      "Epoch 48/100 - d_loss: 0.1656 - g_loss: 4.1450\n",
      "Saved to ./output/generated_img_047.png\n"
     ]
    },
    {
     "name": "stderr",
     "output_type": "stream",
     "text": [
      "Epoch 49/100: 100%|██████████| 313/313 [02:57<00:00,  1.77batch/s, d_loss=0.1476, d_acc=0.9531, g_loss=4.3841, g_acc=0.0429]\n"
     ]
    },
    {
     "name": "stdout",
     "output_type": "stream",
     "text": [
      "\n",
      "Epoch 49/100 - d_loss: 0.1381 - g_loss: 4.4503\n",
      "Saved to ./output/generated_img_048.png\n"
     ]
    },
    {
     "name": "stderr",
     "output_type": "stream",
     "text": [
      "Epoch 50/100: 100%|██████████| 313/313 [02:51<00:00,  1.83batch/s, d_loss=0.2281, d_acc=0.9280, g_loss=3.7684, g_acc=0.0603]\n"
     ]
    },
    {
     "name": "stdout",
     "output_type": "stream",
     "text": [
      "\n",
      "Epoch 50/100 - d_loss: 0.2767 - g_loss: 3.6977\n",
      "Saved to ./output/generated_img_049.png\n"
     ]
    },
    {
     "name": "stderr",
     "output_type": "stream",
     "text": [
      "Epoch 51/100:  11%|█         | 35/313 [00:19<02:35,  1.79batch/s, d_loss=0.1349, d_acc=0.9628, g_loss=4.3417, g_acc=0.0263]\n"
     ]
    },
    {
     "ename": "KeyboardInterrupt",
     "evalue": "",
     "output_type": "error",
     "traceback": [
      "\u001b[0;31m---------------------------------------------------------------------------\u001b[0m",
      "\u001b[0;31mKeyboardInterrupt\u001b[0m                         Traceback (most recent call last)",
      "Cell \u001b[0;32mIn[27], line 10\u001b[0m\n\u001b[1;32m      8\u001b[0m generator \u001b[38;5;241m=\u001b[39m Generator(z_dim\u001b[38;5;241m=\u001b[39mZ_DIM, channels\u001b[38;5;241m=\u001b[39mCHANNELS)\u001b[38;5;241m.\u001b[39mto(device)\n\u001b[1;32m      9\u001b[0m dcgan \u001b[38;5;241m=\u001b[39m DCGAN(discriminator, generator, latent_dim\u001b[38;5;241m=\u001b[39mZ_DIM)\u001b[38;5;241m.\u001b[39mto(device)\n\u001b[0;32m---> 10\u001b[0m \u001b[43mtrain_dcgan\u001b[49m\u001b[43m(\u001b[49m\u001b[43mdcgan\u001b[49m\u001b[43m,\u001b[49m\u001b[43m \u001b[49m\u001b[43mtrain_loader\u001b[49m\u001b[43m,\u001b[49m\u001b[43m \u001b[49m\u001b[43mepochs\u001b[49m\u001b[38;5;241;43m=\u001b[39;49m\u001b[43mEPOCHS\u001b[49m\u001b[43m)\u001b[49m\n",
      "Cell \u001b[0;32mIn[26], line 13\u001b[0m, in \u001b[0;36mtrain_dcgan\u001b[0;34m(dcgan, train_loader, epochs)\u001b[0m\n\u001b[1;32m     11\u001b[0m \u001b[38;5;66;03m# tqdm을 사용한 학습 진행 상황 출력\u001b[39;00m\n\u001b[1;32m     12\u001b[0m \u001b[38;5;28;01mwith\u001b[39;00m tqdm(total\u001b[38;5;241m=\u001b[39m\u001b[38;5;28mlen\u001b[39m(train_loader), desc\u001b[38;5;241m=\u001b[39m\u001b[38;5;124mf\u001b[39m\u001b[38;5;124m\"\u001b[39m\u001b[38;5;124mEpoch \u001b[39m\u001b[38;5;132;01m{\u001b[39;00mepoch\u001b[38;5;241m+\u001b[39m\u001b[38;5;241m1\u001b[39m\u001b[38;5;132;01m}\u001b[39;00m\u001b[38;5;124m/\u001b[39m\u001b[38;5;132;01m{\u001b[39;00mepochs\u001b[38;5;132;01m}\u001b[39;00m\u001b[38;5;124m\"\u001b[39m, unit\u001b[38;5;241m=\u001b[39m\u001b[38;5;124m\"\u001b[39m\u001b[38;5;124mbatch\u001b[39m\u001b[38;5;124m\"\u001b[39m) \u001b[38;5;28;01mas\u001b[39;00m pbar:\n\u001b[0;32m---> 13\u001b[0m \u001b[43m    \u001b[49m\u001b[38;5;28;43;01mfor\u001b[39;49;00m\u001b[43m \u001b[49m\u001b[43mreal_images\u001b[49m\u001b[43m \u001b[49m\u001b[38;5;129;43;01min\u001b[39;49;00m\u001b[43m \u001b[49m\u001b[43mtrain_loader\u001b[49m\u001b[43m:\u001b[49m\n\u001b[1;32m     14\u001b[0m \u001b[43m        \u001b[49m\u001b[43mreal_images\u001b[49m\u001b[43m \u001b[49m\u001b[38;5;241;43m=\u001b[39;49m\u001b[43m \u001b[49m\u001b[43mreal_images\u001b[49m\u001b[38;5;241;43m.\u001b[39;49m\u001b[43mto\u001b[49m\u001b[43m(\u001b[49m\u001b[38;5;28;43mnext\u001b[39;49m\u001b[43m(\u001b[49m\u001b[43mdcgan\u001b[49m\u001b[38;5;241;43m.\u001b[39;49m\u001b[43mparameters\u001b[49m\u001b[43m(\u001b[49m\u001b[43m)\u001b[49m\u001b[43m)\u001b[49m\u001b[38;5;241;43m.\u001b[39;49m\u001b[43mdevice\u001b[49m\u001b[43m)\u001b[49m\n\u001b[1;32m     16\u001b[0m \u001b[43m        \u001b[49m\u001b[38;5;66;43;03m# 각 배치에 대해 train_step 호출\u001b[39;49;00m\n",
      "File \u001b[0;32m~/miniconda3/envs/genAI/lib/python3.12/site-packages/torch/utils/data/dataloader.py:630\u001b[0m, in \u001b[0;36m_BaseDataLoaderIter.__next__\u001b[0;34m(self)\u001b[0m\n\u001b[1;32m    627\u001b[0m \u001b[38;5;28;01mif\u001b[39;00m \u001b[38;5;28mself\u001b[39m\u001b[38;5;241m.\u001b[39m_sampler_iter \u001b[38;5;129;01mis\u001b[39;00m \u001b[38;5;28;01mNone\u001b[39;00m:\n\u001b[1;32m    628\u001b[0m     \u001b[38;5;66;03m# TODO(https://github.com/pytorch/pytorch/issues/76750)\u001b[39;00m\n\u001b[1;32m    629\u001b[0m     \u001b[38;5;28mself\u001b[39m\u001b[38;5;241m.\u001b[39m_reset()  \u001b[38;5;66;03m# type: ignore[call-arg]\u001b[39;00m\n\u001b[0;32m--> 630\u001b[0m data \u001b[38;5;241m=\u001b[39m \u001b[38;5;28;43mself\u001b[39;49m\u001b[38;5;241;43m.\u001b[39;49m\u001b[43m_next_data\u001b[49m\u001b[43m(\u001b[49m\u001b[43m)\u001b[49m\n\u001b[1;32m    631\u001b[0m \u001b[38;5;28mself\u001b[39m\u001b[38;5;241m.\u001b[39m_num_yielded \u001b[38;5;241m+\u001b[39m\u001b[38;5;241m=\u001b[39m \u001b[38;5;241m1\u001b[39m\n\u001b[1;32m    632\u001b[0m \u001b[38;5;28;01mif\u001b[39;00m \u001b[38;5;28mself\u001b[39m\u001b[38;5;241m.\u001b[39m_dataset_kind \u001b[38;5;241m==\u001b[39m _DatasetKind\u001b[38;5;241m.\u001b[39mIterable \u001b[38;5;129;01mand\u001b[39;00m \\\n\u001b[1;32m    633\u001b[0m         \u001b[38;5;28mself\u001b[39m\u001b[38;5;241m.\u001b[39m_IterableDataset_len_called \u001b[38;5;129;01mis\u001b[39;00m \u001b[38;5;129;01mnot\u001b[39;00m \u001b[38;5;28;01mNone\u001b[39;00m \u001b[38;5;129;01mand\u001b[39;00m \\\n\u001b[1;32m    634\u001b[0m         \u001b[38;5;28mself\u001b[39m\u001b[38;5;241m.\u001b[39m_num_yielded \u001b[38;5;241m>\u001b[39m \u001b[38;5;28mself\u001b[39m\u001b[38;5;241m.\u001b[39m_IterableDataset_len_called:\n",
      "File \u001b[0;32m~/miniconda3/envs/genAI/lib/python3.12/site-packages/torch/utils/data/dataloader.py:673\u001b[0m, in \u001b[0;36m_SingleProcessDataLoaderIter._next_data\u001b[0;34m(self)\u001b[0m\n\u001b[1;32m    671\u001b[0m \u001b[38;5;28;01mdef\u001b[39;00m \u001b[38;5;21m_next_data\u001b[39m(\u001b[38;5;28mself\u001b[39m):\n\u001b[1;32m    672\u001b[0m     index \u001b[38;5;241m=\u001b[39m \u001b[38;5;28mself\u001b[39m\u001b[38;5;241m.\u001b[39m_next_index()  \u001b[38;5;66;03m# may raise StopIteration\u001b[39;00m\n\u001b[0;32m--> 673\u001b[0m     data \u001b[38;5;241m=\u001b[39m \u001b[38;5;28;43mself\u001b[39;49m\u001b[38;5;241;43m.\u001b[39;49m\u001b[43m_dataset_fetcher\u001b[49m\u001b[38;5;241;43m.\u001b[39;49m\u001b[43mfetch\u001b[49m\u001b[43m(\u001b[49m\u001b[43mindex\u001b[49m\u001b[43m)\u001b[49m  \u001b[38;5;66;03m# may raise StopIteration\u001b[39;00m\n\u001b[1;32m    674\u001b[0m     \u001b[38;5;28;01mif\u001b[39;00m \u001b[38;5;28mself\u001b[39m\u001b[38;5;241m.\u001b[39m_pin_memory:\n\u001b[1;32m    675\u001b[0m         data \u001b[38;5;241m=\u001b[39m _utils\u001b[38;5;241m.\u001b[39mpin_memory\u001b[38;5;241m.\u001b[39mpin_memory(data, \u001b[38;5;28mself\u001b[39m\u001b[38;5;241m.\u001b[39m_pin_memory_device)\n",
      "File \u001b[0;32m~/miniconda3/envs/genAI/lib/python3.12/site-packages/torch/utils/data/_utils/fetch.py:52\u001b[0m, in \u001b[0;36m_MapDatasetFetcher.fetch\u001b[0;34m(self, possibly_batched_index)\u001b[0m\n\u001b[1;32m     50\u001b[0m         data \u001b[38;5;241m=\u001b[39m \u001b[38;5;28mself\u001b[39m\u001b[38;5;241m.\u001b[39mdataset\u001b[38;5;241m.\u001b[39m__getitems__(possibly_batched_index)\n\u001b[1;32m     51\u001b[0m     \u001b[38;5;28;01melse\u001b[39;00m:\n\u001b[0;32m---> 52\u001b[0m         data \u001b[38;5;241m=\u001b[39m [\u001b[38;5;28;43mself\u001b[39;49m\u001b[38;5;241;43m.\u001b[39;49m\u001b[43mdataset\u001b[49m\u001b[43m[\u001b[49m\u001b[43midx\u001b[49m\u001b[43m]\u001b[49m \u001b[38;5;28;01mfor\u001b[39;00m idx \u001b[38;5;129;01min\u001b[39;00m possibly_batched_index]\n\u001b[1;32m     53\u001b[0m \u001b[38;5;28;01melse\u001b[39;00m:\n\u001b[1;32m     54\u001b[0m     data \u001b[38;5;241m=\u001b[39m \u001b[38;5;28mself\u001b[39m\u001b[38;5;241m.\u001b[39mdataset[possibly_batched_index]\n",
      "Cell \u001b[0;32mIn[3], line 12\u001b[0m, in \u001b[0;36mImageDataset.__getitem__\u001b[0;34m(self, idx)\u001b[0m\n\u001b[1;32m     10\u001b[0m \u001b[38;5;28;01mdef\u001b[39;00m \u001b[38;5;21m__getitem__\u001b[39m(\u001b[38;5;28mself\u001b[39m, idx):\n\u001b[1;32m     11\u001b[0m     img_path \u001b[38;5;241m=\u001b[39m \u001b[38;5;28mself\u001b[39m\u001b[38;5;241m.\u001b[39mimage_paths[idx]\n\u001b[0;32m---> 12\u001b[0m     image \u001b[38;5;241m=\u001b[39m \u001b[43mImage\u001b[49m\u001b[38;5;241;43m.\u001b[39;49m\u001b[43mopen\u001b[49m\u001b[43m(\u001b[49m\u001b[43mimg_path\u001b[49m\u001b[43m)\u001b[49m\u001b[38;5;241;43m.\u001b[39;49m\u001b[43mconvert\u001b[49m\u001b[43m(\u001b[49m\u001b[38;5;124;43m\"\u001b[39;49m\u001b[38;5;124;43mRGB\u001b[39;49m\u001b[38;5;124;43m\"\u001b[39;49m\u001b[43m)\u001b[49m\n\u001b[1;32m     13\u001b[0m     \u001b[38;5;28;01mif\u001b[39;00m \u001b[38;5;28mself\u001b[39m\u001b[38;5;241m.\u001b[39mtransform:\n\u001b[1;32m     14\u001b[0m         image \u001b[38;5;241m=\u001b[39m \u001b[38;5;28mself\u001b[39m\u001b[38;5;241m.\u001b[39mtransform(image)\n",
      "File \u001b[0;32m~/miniconda3/envs/genAI/lib/python3.12/site-packages/PIL/Image.py:995\u001b[0m, in \u001b[0;36mImage.convert\u001b[0;34m(self, mode, matrix, dither, palette, colors)\u001b[0m\n\u001b[1;32m    992\u001b[0m \u001b[38;5;28;01mif\u001b[39;00m mode \u001b[38;5;129;01min\u001b[39;00m (\u001b[38;5;124m\"\u001b[39m\u001b[38;5;124mBGR;15\u001b[39m\u001b[38;5;124m\"\u001b[39m, \u001b[38;5;124m\"\u001b[39m\u001b[38;5;124mBGR;16\u001b[39m\u001b[38;5;124m\"\u001b[39m, \u001b[38;5;124m\"\u001b[39m\u001b[38;5;124mBGR;24\u001b[39m\u001b[38;5;124m\"\u001b[39m):\n\u001b[1;32m    993\u001b[0m     deprecate(mode, \u001b[38;5;241m12\u001b[39m)\n\u001b[0;32m--> 995\u001b[0m \u001b[38;5;28;43mself\u001b[39;49m\u001b[38;5;241;43m.\u001b[39;49m\u001b[43mload\u001b[49m\u001b[43m(\u001b[49m\u001b[43m)\u001b[49m\n\u001b[1;32m    997\u001b[0m has_transparency \u001b[38;5;241m=\u001b[39m \u001b[38;5;124m\"\u001b[39m\u001b[38;5;124mtransparency\u001b[39m\u001b[38;5;124m\"\u001b[39m \u001b[38;5;129;01min\u001b[39;00m \u001b[38;5;28mself\u001b[39m\u001b[38;5;241m.\u001b[39minfo\n\u001b[1;32m    998\u001b[0m \u001b[38;5;28;01mif\u001b[39;00m \u001b[38;5;129;01mnot\u001b[39;00m mode \u001b[38;5;129;01mand\u001b[39;00m \u001b[38;5;28mself\u001b[39m\u001b[38;5;241m.\u001b[39mmode \u001b[38;5;241m==\u001b[39m \u001b[38;5;124m\"\u001b[39m\u001b[38;5;124mP\u001b[39m\u001b[38;5;124m\"\u001b[39m:\n\u001b[1;32m    999\u001b[0m     \u001b[38;5;66;03m# determine default mode\u001b[39;00m\n",
      "File \u001b[0;32m~/miniconda3/envs/genAI/lib/python3.12/site-packages/PIL/ImageFile.py:293\u001b[0m, in \u001b[0;36mImageFile.load\u001b[0;34m(self)\u001b[0m\n\u001b[1;32m    290\u001b[0m         \u001b[38;5;28;01mraise\u001b[39;00m \u001b[38;5;167;01mOSError\u001b[39;00m(msg)\n\u001b[1;32m    292\u001b[0m b \u001b[38;5;241m=\u001b[39m b \u001b[38;5;241m+\u001b[39m s\n\u001b[0;32m--> 293\u001b[0m n, err_code \u001b[38;5;241m=\u001b[39m \u001b[43mdecoder\u001b[49m\u001b[38;5;241;43m.\u001b[39;49m\u001b[43mdecode\u001b[49m\u001b[43m(\u001b[49m\u001b[43mb\u001b[49m\u001b[43m)\u001b[49m\n\u001b[1;32m    294\u001b[0m \u001b[38;5;28;01mif\u001b[39;00m n \u001b[38;5;241m<\u001b[39m \u001b[38;5;241m0\u001b[39m:\n\u001b[1;32m    295\u001b[0m     \u001b[38;5;28;01mbreak\u001b[39;00m\n",
      "\u001b[0;31mKeyboardInterrupt\u001b[0m: "
     ]
    }
   ],
   "source": [
    "if torch.backends.mps.is_available():\n",
    "    device = torch.device(\"mps\")\n",
    "    print(\"MPS device is available.\")\n",
    "else:\n",
    "    device = torch.device(\"cpu\")\n",
    "    print(\"MPS device is not available. Using CPU.\")\n",
    "    \n",
    "discriminator = Discriminator(image_size=IMAGE_SIZE, channels=CHANNELS).to(device)\n",
    "generator = Generator(z_dim=Z_DIM, channels=CHANNELS).to(device)\n",
    "dcgan = DCGAN(discriminator, generator, latent_dim=Z_DIM).to(device)\n",
    "train_dcgan(dcgan, train_loader, epochs=EPOCHS)"
   ]
  },
  {
   "cell_type": "code",
   "execution_count": 29,
   "metadata": {},
   "outputs": [],
   "source": [
    "def save_model_and_visualize(epoch, dcgan, d_loss_history, g_loss_history, d_acc_history, g_acc_history):\n",
    "    # 모델 파라미터 저장\n",
    "    torch.save(dcgan.state_dict(), MODEL_SAVE_PATH)\n",
    "    print(f\"Model saved after epoch {epoch} at {MODEL_SAVE_PATH}\")\n",
    "    \n",
    "    # 메트릭 시각화\n",
    "    epochs_range = list(range(1, epoch + 1))\n",
    "    \n",
    "    plt.figure(figsize=(12, 6))\n",
    "    \n",
    "    # Discriminator와 Generator의 손실 시각화\n",
    "    plt.subplot(1, 2, 1)\n",
    "    plt.plot(epochs_range, d_loss_history, label='Discriminator Loss')\n",
    "    plt.plot(epochs_range, g_loss_history, label='Generator Loss')\n",
    "    plt.title('Loss per Epoch')\n",
    "    plt.xlabel('Epochs')\n",
    "    plt.ylabel('Loss')\n",
    "    plt.legend()\n",
    "\n",
    "    # Discriminator와 Generator의 정확도 시각화\n",
    "    plt.subplot(1, 2, 2)\n",
    "    plt.plot(epochs_range, d_acc_history, label='Discriminator Accuracy')\n",
    "    plt.plot(epochs_range, g_acc_history, label='Generator Accuracy')\n",
    "    plt.title('Accuracy per Epoch')\n",
    "    plt.xlabel('Epochs')\n",
    "    plt.ylabel('Accuracy')\n",
    "    plt.legend()\n",
    "\n",
    "    plt.show()\n"
   ]
  },
  {
   "cell_type": "code",
   "execution_count": 30,
   "metadata": {},
   "outputs": [
    {
     "name": "stdout",
     "output_type": "stream",
     "text": [
      "Model saved after epoch 50 at ./dcgan_model_checkpoint.pth\n"
     ]
    }
   ],
   "source": [
    "torch.save(dcgan.state_dict(), MODEL_SAVE_PATH)\n",
    "print(f\"Model saved after epoch {50} at {MODEL_SAVE_PATH}\")"
   ]
  },
  {
   "cell_type": "code",
   "execution_count": null,
   "metadata": {},
   "outputs": [],
   "source": []
  }
 ],
 "metadata": {
  "kernelspec": {
   "display_name": "genAI",
   "language": "python",
   "name": "python3"
  },
  "language_info": {
   "codemirror_mode": {
    "name": "ipython",
    "version": 3
   },
   "file_extension": ".py",
   "mimetype": "text/x-python",
   "name": "python",
   "nbconvert_exporter": "python",
   "pygments_lexer": "ipython3",
   "version": "3.12.3"
  }
 },
 "nbformat": 4,
 "nbformat_minor": 2
}
